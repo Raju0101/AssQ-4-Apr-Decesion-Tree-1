{
 "cells": [
  {
   "cell_type": "markdown",
   "id": "31533f75-a347-49bd-b2dd-d89cba08d1cb",
   "metadata": {},
   "source": [
    "# AssQ 04-Apr-Decesion Tree - 1"
   ]
  },
  {
   "cell_type": "code",
   "execution_count": null,
   "id": "f61fb1e0-81fb-4d82-8db4-fa49517f52e2",
   "metadata": {},
   "outputs": [],
   "source": [
    "Q1. Describe the decision tree classifier algorithm and how it works to make predictions."
   ]
  },
  {
   "cell_type": "code",
   "execution_count": null,
   "id": "8d10dd9c-66d6-40f2-bc7a-7655660dd84d",
   "metadata": {},
   "outputs": [],
   "source": [
    "A decision tree algorithm is a machine learning algorithm that uses a decision tree to make predictions.\n",
    "It follows a tree-like model of decisions and their possible consequences. The algorithm works by recursively splitting\n",
    "the data into subsets based on the most significant feature at each node of the tree.\n",
    "\n",
    "A decision tree is a non-parametric supervised learning algorithm, which is utilized \n",
    "for both classification and regression tasks.\n",
    "It has a hierarchical, tree structure, which consists of a root node, branches, internal nodes and leaf nodes.\n",
    "\n",
    "The best example is buying something from any online shopping portal where we get several recommendations \n",
    "based on what we are buying. One type of machine learning algorithm is Decision Tree, \n",
    "which is a type of classification algorithm that comes under supervised classification"
   ]
  },
  {
   "cell_type": "code",
   "execution_count": null,
   "id": "8576c025-b3d9-43ac-82d8-dd73daa3bf9b",
   "metadata": {},
   "outputs": [],
   "source": []
  },
  {
   "cell_type": "code",
   "execution_count": null,
   "id": "cfefa3c6-9d8c-4702-8605-9634105044b6",
   "metadata": {},
   "outputs": [],
   "source": [
    "Q2. Provide a step-by-step explanation of the mathematical intuition behind decision tree classification."
   ]
  },
  {
   "cell_type": "code",
   "execution_count": null,
   "id": "c8a3bb23-9bcb-43b0-a9b3-a53e8bb92a12",
   "metadata": {},
   "outputs": [],
   "source": [
    "First, we calculate the percentage of records that fall into each class (p). \n",
    "Then we square those numbers and add them together. Finally, we subtract that number from one.\n",
    "Because decision trees split data into more than one group,\n",
    "our final step is to calculate the weighted average of the Gini Impurity in each group.\n",
    "\n",
    "An attribute selection measure is a heuristic for selecting the splitting criterion\n",
    "that ―best‖ separates a given data partition, D, of class-labeled training tuples into individual classes.\n",
    "The topmost node in a tree is the root node.\n",
    "\n",
    "Follow these five steps to create a decision tree diagram to analyze uncertain outcomes and reach the most logical solution.\n",
    "Start with your idea. Begin your diagram with one main idea or decision. ...\n",
    "Add chance and decision nodes. ...\n",
    "Expand until you reach end points. ...\n",
    "Calculate tree values. ...\n",
    "Evaluate outcomes.\n",
    "\n",
    "The tree can be explained by two entities, namely decision nodes and leaves. \n",
    "The leaves are the decisions or the final outcomes. And the decision nodes are where the data is split.\n",
    "An example of a decision tree can be explained using above binary tree.\n",
    "\n",
    "Decision trees use multiple algorithms to decide to split a node into two or more sub-nodes.\n",
    "The creation of sub-nodes increases the homogeneity of resultant sub-nodes. \n",
    "In other words, we can say that the purity of the node increases with respect to the target variable.\n",
    "\n",
    "The decision tree splits the nodes on all available variables and then selects the split which results \n",
    "in most homogeneous sub-nodes. The ID3 algorithm builds decision trees\n",
    "using a top-down greedy search approach through the space of possible branches with no backtracking."
   ]
  },
  {
   "cell_type": "code",
   "execution_count": null,
   "id": "ac6d05e4-3cc7-47cf-a24b-0e60575a7ca1",
   "metadata": {},
   "outputs": [],
   "source": []
  },
  {
   "cell_type": "code",
   "execution_count": null,
   "id": "f7c1df8a-28dc-49b4-b167-e4e529efb389",
   "metadata": {},
   "outputs": [],
   "source": [
    "Q3. Explain how a decision tree classifier can be used to solve a binary classification problem."
   ]
  },
  {
   "cell_type": "code",
   "execution_count": null,
   "id": "005f9e0a-bd0c-47e9-b670-f60797c7e5a5",
   "metadata": {},
   "outputs": [],
   "source": [
    "A Binary Decision Tree is a structure based on a sequential decision process. \n",
    "Starting from the root, a feature is evaluated and one of the two branches is selected. \n",
    "This procedure is repeated until a final leaf is reached,\n",
    "which normally represents the classification target you're looking for.\n",
    "\n",
    "The decision tree splits the nodes on all available variables and then selects the split which results\n",
    "in most homogeneous sub-nodes. The ID3 algorithm builds decision trees using\n",
    "a top-down greedy search approach through the space of possible branches with no backtracking.\n",
    "\n"
   ]
  },
  {
   "cell_type": "code",
   "execution_count": null,
   "id": "9c722c7c-de75-45ce-beb6-81c9f9004320",
   "metadata": {},
   "outputs": [],
   "source": []
  },
  {
   "cell_type": "code",
   "execution_count": null,
   "id": "962e21b5-0be9-4cc4-9f68-63977b80e5e6",
   "metadata": {},
   "outputs": [],
   "source": [
    "Q4. Discuss the geometric intuition behind decision tree classification and how it can be used to make predictions."
   ]
  },
  {
   "cell_type": "code",
   "execution_count": null,
   "id": "679b8acc-0a48-4f69-94a6-414034540f30",
   "metadata": {},
   "outputs": [],
   "source": [
    "Decision Trees are easy & Simple to implement & interpreted.\n",
    "Decision Tree is a diagram (flow) that is used to predict the course of action.\n",
    "\n",
    "A decision tree is a decision support tool that uses a tree-like model of decisions and their possible consequences, \n",
    "including chance event outcomes.\n",
    "\n",
    "A decision node, represented by a square, shows a decision to be made, \n",
    "and an end node shows the final outcome of a decision path. Decision trees can also be drawn with flowchart symbols,\n",
    "which some people find easier to read and understand.\n",
    "\n",
    "Parallelogram represents the input and output symbols in a flowchart; it also represents data in general.\n",
    "In other words, the paralellogram shape represents a data's value as it enters a process or is sent out of a process.\n",
    "\n",
    "In Decision Trees, for predicting a class label for a record we start from the root of the tree. \n",
    "We compare the values of the root attribute with the record's attribute. On the basis of comparison, \n",
    "we follow the branch corresponding to that value and jump to the next node.\n",
    "\n",
    "Decision trees tend to be the method of choice for predictive modeling because they are relatively easy to understand \n",
    "and are also very effective.The basic goal of a decision tree is to split a population of data into smaller segments.\n",
    "There are two stages to prediction."
   ]
  },
  {
   "cell_type": "code",
   "execution_count": null,
   "id": "246a4200-9d54-4273-9100-bba8cf1d35f6",
   "metadata": {},
   "outputs": [],
   "source": []
  },
  {
   "cell_type": "code",
   "execution_count": null,
   "id": "80f17665-adfe-4393-a118-dae79a6f0f13",
   "metadata": {},
   "outputs": [],
   "source": [
    "Q5. Define the confusion matrix and describe how it can be used to evaluate the performance of a\n",
    "classification model."
   ]
  },
  {
   "cell_type": "code",
   "execution_count": null,
   "id": "904d5316-7eb3-4b49-9f93-c3bb39ffc474",
   "metadata": {},
   "outputs": [],
   "source": [
    "A confusion matrix is a table that allows you to visualize the performance of a classification model.\n",
    "You can also use the information in it to calculate measures that can help you determine the usefulness of the model. \n",
    "Rows represent predicted classifications, while columns represent the true classes from the data.\n",
    "\n",
    "A Confusion matrix is an N x N matrix used for evaluating the performance of a classification model,\n",
    "where N is the total number of target classes.\n",
    "The matrix compares the actual target values with those predicted by the machine learning model.\n",
    "\n",
    "How to Evaluate Classification Models by using confusion matrix---\n",
    "Precision (Positive Predicted Value)\n",
    "Recall (Sensitivity, True Positive Rate)\n",
    "Specificity (Selectivity, True Negative Rate)\n",
    "Fall-out (False Positive Rate)\n",
    "Miss Rate (False Negative Rate)\n",
    "Receiver-Operator Curve (ROC Curve) and Area Under the Curve (AUC)\n",
    "\n",
    "How do you measure the performance of a confusion matrix--------\n",
    "Image result for Q5. Define the confusion matrix and describe how it can be used to evaluate the performance of a\n",
    "classification model.\n",
    "Confusion Matrix: Confusion Matrix usually causes a lot of confusion even in those who are using them regularly. ...\n",
    "Precision: Precision = TP / (TP + FP) ...\n",
    "Recall or Sensitivity: Recall = TP/ (TN + FN) ...\n",
    "Specificity: Specificity = TN/ (TN + FP) ...\n",
    "F1-Score: ...\n",
    "Area Under Curve (AUC) and ROC Curve:"
   ]
  },
  {
   "cell_type": "code",
   "execution_count": null,
   "id": "15e8ce26-80fa-41ae-95e8-5b8b927072ff",
   "metadata": {},
   "outputs": [],
   "source": []
  },
  {
   "cell_type": "code",
   "execution_count": null,
   "id": "0158257e-ad1f-4f5e-805e-d0d99e4d7b0d",
   "metadata": {},
   "outputs": [],
   "source": [
    "Q6. Provide an example of a confusion matrix and explain how precision, recall, and F1 score can be\n",
    "calculated from it."
   ]
  },
  {
   "cell_type": "code",
   "execution_count": null,
   "id": "d8950f36-ddcb-4cd6-abd1-7e343b3cc88e",
   "metadata": {},
   "outputs": [],
   "source": [
    "Consider the same dataset, where a model predicts 50 examples belonging to the minority class,\n",
    "45 of which are true positives and five of which are false positives. We can calculate the precision for this model as follows:\n",
    "\n",
    "Precision = TruePositives / (TruePositives + FalsePositives)\n",
    "Precision = 45 / (45 + 5)\n",
    "Precision = 45 / 50\n",
    "Precision = 0.90\n",
    "\n",
    "A model makes predictions and predicts 70 examples for the first minority class, where 50 are correct and 20 are incorrect.\n",
    "It predicts 150 for the second class with 99 correct and 51 incorrect. Precision can be calculated for this model as follows:\n",
    "\n",
    "Precision = (TruePositives_1 + TruePositives_2) / ((TruePositives_1 + TruePositives_2) + (FalsePositives_1 + FalsePositives_2) )\n",
    "Precision = (50 + 99) / ((50 + 99) + (20 + 51))\n",
    "Precision = 149 / (149 + 71)\n",
    "Precision = 149 / 220\n",
    "Precision = 0.677\n",
    "\n",
    "\n",
    "A model makes predictions and predicts 90 of the positive class predictions correctly and 10 incorrectly.\n",
    "We can calculate the recall for this model as follows:\n",
    "\n",
    "Recall = TruePositives / (TruePositives + FalseNegatives)\n",
    "Recall = 90 / (90 + 10)\n",
    "Recall = 90 / 100\n",
    "Recall = 0.9\n",
    "\n",
    "\n",
    "\n",
    "A model predicts 77 examples correctly and 23 incorrectly for class 1, and 95 correctly and five incorrectly for class 2. \n",
    "We can calculate recall for this model as follows:\n",
    "\n",
    "Recall = (TruePositives_1 + TruePositives_2) / ((TruePositives_1 + TruePositives_2) + (FalseNegatives_1 + FalseNegatives_2))\n",
    "Recall = (77 + 95) / ((77 + 95) + (23 + 5))\n",
    "Recall = 172 / (172 + 28)\n",
    "Recall = 172 / 200\n",
    "Recall = 0.86\n",
    "\n",
    "\n",
    "Consider a model that predicts 150 examples for the positive class, 95 are correct (true positives), \n",
    "meaning five were missed (false negatives) and 55 are incorrect (false positives).\n",
    "\n",
    "We can calculate the precision as follows:\n",
    "\n",
    "Precision = TruePositives / (TruePositives + FalsePositives)\n",
    "Precision = 95 / (95 + 55)\n",
    "Precision = 0.633\n",
    "We can calculate the recall as follows:\n",
    "\n",
    "Recall = TruePositives / (TruePositives + FalseNegatives)\n",
    "Recall = 95 / (95 + 5)\n",
    "Recall = 0.95\n",
    "This shows that the model has poor precision, but excellent recall.\n",
    "\n",
    "Finally, we can calculate the F-Measure as follows:\n",
    "\n",
    "F-Measure = (2 * Precision * Recall) / (Precision + Recall)\n",
    "F-Measure = (2 * 0.633 * 0.95) / (0.633 + 0.95)\n",
    "F-Measure = (2 * 0.601) / 1.583\n",
    "F-Measure = 1.202 / 1.583\n",
    "F-Measure = 0.759"
   ]
  },
  {
   "cell_type": "code",
   "execution_count": null,
   "id": "76e5668a-6f91-4a5b-83e3-0328581fa69a",
   "metadata": {},
   "outputs": [],
   "source": []
  },
  {
   "cell_type": "code",
   "execution_count": null,
   "id": "32051663-9f25-4ae4-9904-d5927c5d3870",
   "metadata": {},
   "outputs": [],
   "source": [
    "Q7. Discuss the importance of choosing an appropriate evaluation metric for a classification problem and\n",
    "explain how this can be done."
   ]
  },
  {
   "cell_type": "code",
   "execution_count": null,
   "id": "aea194d3-831b-49a0-aff9-5dbc53d8ba9f",
   "metadata": {},
   "outputs": [],
   "source": [
    "Evaluation metrics are used to measure the quality of the statistical or machine learning model. \n",
    "Evaluating machine learning models or algorithms is essential for any project. \n",
    "There are many different types of evaluation metrics available to test a model.\n",
    "\n",
    "Metrics like accuracy, precision, recall are good ways to evaluate classification models for balanced datasets, \n",
    "but if the data is imbalanced then other methods like ROC/AUC perform better in evaluating the model performance.\n",
    "\n",
    "Area Under Curve(AUC) is one of the most widely used metrics for evaluation. \n",
    "It is used for binary classification problem. \n",
    "AUC of a classifier is equal to the probability that the classifier will rank \n",
    "a randomly chosen positive example higher than a randomly chosen negative example.\n",
    "\n",
    "The F1 score is easily one of the most reliable ways to score how well a classification model performs.\n",
    "It is the weighted average of precision and recall, as defined by the equation below.\n",
    "The F1 score makes sure that you achieve a good balance between precision and recall"
   ]
  },
  {
   "cell_type": "code",
   "execution_count": null,
   "id": "edae3df0-6814-4d28-8dae-5453d4224490",
   "metadata": {},
   "outputs": [],
   "source": []
  },
  {
   "cell_type": "code",
   "execution_count": null,
   "id": "02b6fbba-8926-43e4-ad6d-999b64f91264",
   "metadata": {},
   "outputs": [],
   "source": [
    "Q8. Provide an example of a classification problem where precision is the most important metric, and\n",
    "explain why."
   ]
  },
  {
   "cell_type": "code",
   "execution_count": null,
   "id": "3ca42a56-1b14-4ee9-9880-8bba2ffbeaf8",
   "metadata": {},
   "outputs": [],
   "source": [
    "Email Spam detection:This is one of the example where Precision is more important than Recall. \n",
    "Quick Recap: Precision: This tells when you predict something positive,\n",
    "how many times they were actually positive.\n",
    "\n",
    "Precision refers to the closeness of two or more measurements to each other. \n",
    "Using the example above, if you weigh a given substance five times, and get 3.2 kg each time,\n",
    "then your measurement is very precise.\n",
    "\n",
    "Accuracy is how close a value is to its true value. An example is how close an arrow gets to \n",
    "the bull's-eye center. Precision is how repeatable a measurement is. \n",
    "An example is how close a second arrow is to the first one (regardless of whether either is near the mark)."
   ]
  },
  {
   "cell_type": "code",
   "execution_count": null,
   "id": "1b00f08d-7a5c-4080-915f-afa9769cf0b1",
   "metadata": {},
   "outputs": [],
   "source": []
  },
  {
   "cell_type": "code",
   "execution_count": null,
   "id": "9c988bc1-45d3-4c20-812a-13390a240929",
   "metadata": {},
   "outputs": [],
   "source": [
    "Q9. Provide an example of a classification problem where recall is the most important metric, and explain why."
   ]
  },
  {
   "cell_type": "code",
   "execution_count": null,
   "id": "bfe3d87f-3da9-46bb-a543-7a9ddb57e7e6",
   "metadata": {},
   "outputs": [],
   "source": [
    "An example would be hiring when there are a lot of similar candidates.\n",
    "Recall is more important than precision when the cost of acting is low, \n",
    "but the opportunity cost of passing up on a candidate is high.\n",
    "\n",
    "Precision can be seen as a measure of quality, and recall as a measure of quantity.\n",
    "Higher precision means that an algorithm returns more relevant results than irrelevant ones,\n",
    "and high recall means that an algorithm returns most of the relevant results\n",
    "(whether or not irrelevant ones are also returned).\n",
    "\n",
    "Recall is useful when we want to ensure we capture all the True Positives even if that means \n",
    "increasing our False Positives (false alarms). This is important, for example,\n",
    "in the case of a cancer detection where it is very important to flag it rather than not.\n",
    "\n"
   ]
  },
  {
   "cell_type": "code",
   "execution_count": null,
   "id": "94812e2d-9182-43c4-84b1-68fee3557b27",
   "metadata": {},
   "outputs": [],
   "source": [
    "....................THE END...................."
   ]
  }
 ],
 "metadata": {
  "kernelspec": {
   "display_name": "Python 3 (ipykernel)",
   "language": "python",
   "name": "python3"
  },
  "language_info": {
   "codemirror_mode": {
    "name": "ipython",
    "version": 3
   },
   "file_extension": ".py",
   "mimetype": "text/x-python",
   "name": "python",
   "nbconvert_exporter": "python",
   "pygments_lexer": "ipython3",
   "version": "3.10.6"
  }
 },
 "nbformat": 4,
 "nbformat_minor": 5
}
